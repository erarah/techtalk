{
  "metadata": {
    "kernelspec": {
      "language": "python",
      "display_name": "Python 3",
      "name": "python3"
    },
    "language_info": {
      "name": "python",
      "version": "3.10.13",
      "mimetype": "text/x-python",
      "codemirror_mode": {
        "name": "ipython",
        "version": 3
      },
      "pygments_lexer": "ipython3",
      "nbconvert_exporter": "python",
      "file_extension": ".py"
    },
    "kaggle": {
      "accelerator": "none",
      "dataSources": [
        {
          "sourceId": 8586093,
          "sourceType": "datasetVersion",
          "datasetId": 5135429
        },
        {
          "sourceId": 8596988,
          "sourceType": "datasetVersion",
          "datasetId": 5142984
        },
        {
          "sourceId": 8597310,
          "sourceType": "datasetVersion",
          "datasetId": 5143385
        }
      ],
      "dockerImageVersionId": 30715,
      "isInternetEnabled": true,
      "language": "python",
      "sourceType": "notebook",
      "isGpuEnabled": false
    },
    "colab": {
      "name": "notebook42460017c9",
      "provenance": [],
      "include_colab_link": true
    }
  },
  "nbformat_minor": 0,
  "nbformat": 4,
  "cells": [
    {
      "cell_type": "markdown",
      "metadata": {
        "id": "view-in-github",
        "colab_type": "text"
      },
      "source": [
        "<a href=\"https://colab.research.google.com/github/erarah/techtalk/blob/main/Test.ipynb\" target=\"_parent\"><img src=\"https://colab.research.google.com/assets/colab-badge.svg\" alt=\"Open In Colab\"/></a>"
      ]
    },
    {
      "source": [
        "\n",
        "# IMPORTANT: RUN THIS CELL IN ORDER TO IMPORT YOUR KAGGLE DATA SOURCES\n",
        "# TO THE CORRECT LOCATION (/kaggle/input) IN YOUR NOTEBOOK,\n",
        "# THEN FEEL FREE TO DELETE THIS CELL.\n",
        "# NOTE: THIS NOTEBOOK ENVIRONMENT DIFFERS FROM KAGGLE'S PYTHON\n",
        "# ENVIRONMENT SO THERE MAY BE MISSING LIBRARIES USED BY YOUR\n",
        "# NOTEBOOK.\n",
        "\n",
        "import os\n",
        "import sys\n",
        "from tempfile import NamedTemporaryFile\n",
        "from urllib.request import urlopen\n",
        "from urllib.parse import unquote, urlparse\n",
        "from urllib.error import HTTPError\n",
        "from zipfile import ZipFile\n",
        "import tarfile\n",
        "import shutil\n",
        "\n",
        "CHUNK_SIZE = 40960\n",
        "DATA_SOURCE_MAPPING = 'ratings:https%3A%2F%2Fstorage.googleapis.com%2Fkaggle-data-sets%2F5135429%2F8586093%2Fbundle%2Farchive.zip%3FX-Goog-Algorithm%3DGOOG4-RSA-SHA256%26X-Goog-Credential%3Dgcp-kaggle-com%2540kaggle-161607.iam.gserviceaccount.com%252F20240629%252Fauto%252Fstorage%252Fgoog4_request%26X-Goog-Date%3D20240629T234043Z%26X-Goog-Expires%3D259200%26X-Goog-SignedHeaders%3Dhost%26X-Goog-Signature%3D46cefd396b6763364dc6deaba3b940280520b0448a97ecdf3860b9888b850bf06035cd42712ee780f98f94f8fbc8d79929e53eb5de40da79a8e47d4a65fbb61881200a9a9ff2cfc0b92301d422de9d72c588e1014cb282d835ead6a3fc440a4ba47226091991bb9974e63bcb2933110344960b20afc40b9868829b302e9d03d049fd1b0f79d1d42d5b01bb705bc90ca06ca09d17e110d7410c11c3e0f1cafe5361538e956856e14801c3d47a5546e8c787bf63b9f2d20d43dd43433aa63309d9597da2a3ffe6c0c43c4b5255b9ec26b9f6d19f6cd1cda01cfd956bc01c322718cdc3118a489a4be96b1ea35a9af5e294663606b3743d0f006931f7506cf09fb4,utilities:https%3A%2F%2Fstorage.googleapis.com%2Fkaggle-data-sets%2F5142984%2F8596988%2Fbundle%2Farchive.zip%3FX-Goog-Algorithm%3DGOOG4-RSA-SHA256%26X-Goog-Credential%3Dgcp-kaggle-com%2540kaggle-161607.iam.gserviceaccount.com%252F20240629%252Fauto%252Fstorage%252Fgoog4_request%26X-Goog-Date%3D20240629T234043Z%26X-Goog-Expires%3D259200%26X-Goog-SignedHeaders%3Dhost%26X-Goog-Signature%3D8520be230fb9197aa702a8781f5b31842fe6d4a3b51f32db3deeb33964b3da7f7571a2ad30df9af382fea37490337de0fb938c604e8ac57f204e266f498d694646b0ed8458ff9deae5d68588861fd1997c6b2dd6096fcb2bf3f24fe515f97c7ebb1ab4ccd572ff67ea0e42012b73d3bc5a231cd00c7d02a82ac6c25be06bc7f021f7d95167f1a2786ee33faafe1f2949f781057ac62d10b5efed3e8a892d25df2589cfd66b61c3a7d432be6747cd7e69586fcf4f715aee2f3cf0363eaf64b9d32247b8fb0aca07c62ee4ecbbf7e708d681de9aa42519adb5f429e667d91dce00cc4db1db54c65fad62ae55e01d1804a97fce819de48869a92a92ef8b5b3bedbc,course-genres:https%3A%2F%2Fstorage.googleapis.com%2Fkaggle-data-sets%2F5143385%2F8597310%2Fbundle%2Farchive.zip%3FX-Goog-Algorithm%3DGOOG4-RSA-SHA256%26X-Goog-Credential%3Dgcp-kaggle-com%2540kaggle-161607.iam.gserviceaccount.com%252F20240629%252Fauto%252Fstorage%252Fgoog4_request%26X-Goog-Date%3D20240629T234043Z%26X-Goog-Expires%3D259200%26X-Goog-SignedHeaders%3Dhost%26X-Goog-Signature%3D2f7d7ccbe8f9a31941178c4203b408041fa56e7eb71003293f41f77d081539b18ccde27a5d63dc1492b53eb92196d41ab0433f835171a27f9f97bca0f1f05ecdacb0e167b7be142be088905ded79a6162358460845dee6e09c148352552276af1df50cb9d67329510e5c62c436540b986078d106836ff4eea1088751f19c906fe7c466250a38ca0e51fde9b530d49f23f6aef88fadb5142272cde54ed002574d16444914b2cbc3a356de389cbd92ca692480166bfec4934507ff5285b7171d1e52e638608972f27c8ebc48eb75808f4d058ca7a042286b18e9ead50e42ca5993f1e6af6ee4bc8d7e77edc04dd63f4b140861d7e8dba33106ea33c34fa37ce933'\n",
        "\n",
        "KAGGLE_INPUT_PATH='/kaggle/input'\n",
        "KAGGLE_WORKING_PATH='/kaggle/working'\n",
        "KAGGLE_SYMLINK='kaggle'\n",
        "\n",
        "!umount /kaggle/input/ 2> /dev/null\n",
        "shutil.rmtree('/kaggle/input', ignore_errors=True)\n",
        "os.makedirs(KAGGLE_INPUT_PATH, 0o777, exist_ok=True)\n",
        "os.makedirs(KAGGLE_WORKING_PATH, 0o777, exist_ok=True)\n",
        "\n",
        "try:\n",
        "  os.symlink(KAGGLE_INPUT_PATH, os.path.join(\"..\", 'input'), target_is_directory=True)\n",
        "except FileExistsError:\n",
        "  pass\n",
        "try:\n",
        "  os.symlink(KAGGLE_WORKING_PATH, os.path.join(\"..\", 'working'), target_is_directory=True)\n",
        "except FileExistsError:\n",
        "  pass\n",
        "\n",
        "for data_source_mapping in DATA_SOURCE_MAPPING.split(','):\n",
        "    directory, download_url_encoded = data_source_mapping.split(':')\n",
        "    download_url = unquote(download_url_encoded)\n",
        "    filename = urlparse(download_url).path\n",
        "    destination_path = os.path.join(KAGGLE_INPUT_PATH, directory)\n",
        "    try:\n",
        "        with urlopen(download_url) as fileres, NamedTemporaryFile() as tfile:\n",
        "            total_length = fileres.headers['content-length']\n",
        "            print(f'Downloading {directory}, {total_length} bytes compressed')\n",
        "            dl = 0\n",
        "            data = fileres.read(CHUNK_SIZE)\n",
        "            while len(data) > 0:\n",
        "                dl += len(data)\n",
        "                tfile.write(data)\n",
        "                done = int(50 * dl / int(total_length))\n",
        "                sys.stdout.write(f\"\\r[{'=' * done}{' ' * (50-done)}] {dl} bytes downloaded\")\n",
        "                sys.stdout.flush()\n",
        "                data = fileres.read(CHUNK_SIZE)\n",
        "            if filename.endswith('.zip'):\n",
        "              with ZipFile(tfile) as zfile:\n",
        "                zfile.extractall(destination_path)\n",
        "            else:\n",
        "              with tarfile.open(tfile.name) as tarfile:\n",
        "                tarfile.extractall(destination_path)\n",
        "            print(f'\\nDownloaded and uncompressed: {directory}')\n",
        "    except HTTPError as e:\n",
        "        print(f'Failed to load (likely expired) {download_url} to path {destination_path}')\n",
        "        continue\n",
        "    except OSError as e:\n",
        "        print(f'Failed to load {download_url} to path {destination_path}')\n",
        "        continue\n",
        "\n",
        "print('Data source import complete.')\n"
      ],
      "metadata": {
        "id": "fPceSkr-X2c1"
      },
      "cell_type": "code",
      "outputs": [],
      "execution_count": null
    },
    {
      "cell_type": "code",
      "source": [
        "# This Python 3 environment comes with many helpful analytics libraries installed\n",
        "# It is defined by the kaggle/python Docker image: https://github.com/kaggle/docker-python\n",
        "# For example, here's several helpful packages to load\n",
        "\n",
        "import numpy as np # linear algebra\n",
        "import pandas as pd # data processing, CSV file I/O (e.g. pd.read_csv)\n",
        "import os, sys"
      ],
      "metadata": {
        "_uuid": "8f2839f25d086af736a60e9eeb907d3b93b6e0e5",
        "_cell_guid": "b1076dfc-b9ad-4769-8c92-a6c4dae69d19",
        "execution": {
          "iopub.status.busy": "2024-06-03T22:11:22.288267Z",
          "iopub.execute_input": "2024-06-03T22:11:22.288628Z",
          "iopub.status.idle": "2024-06-03T22:11:22.293942Z",
          "shell.execute_reply.started": "2024-06-03T22:11:22.2886Z",
          "shell.execute_reply": "2024-06-03T22:11:22.292762Z"
        },
        "trusted": true,
        "id": "8oKD31lzX2c3"
      },
      "execution_count": null,
      "outputs": []
    },
    {
      "cell_type": "code",
      "source": [
        "sys.path.append('/kaggle/input/utilities')\n",
        "from plots import *"
      ],
      "metadata": {
        "execution": {
          "iopub.status.busy": "2024-06-03T22:11:27.800424Z",
          "iopub.execute_input": "2024-06-03T22:11:27.801365Z",
          "iopub.status.idle": "2024-06-03T22:11:27.81543Z",
          "shell.execute_reply.started": "2024-06-03T22:11:27.80132Z",
          "shell.execute_reply": "2024-06-03T22:11:27.814013Z"
        },
        "trusted": true,
        "id": "Lg5UrNOBX2c4"
      },
      "execution_count": null,
      "outputs": []
    },
    {
      "cell_type": "code",
      "source": [
        "ratings_df = pd.read_csv('/kaggle/input/ratings/ratings.csv')\n",
        "ratings_df.head()"
      ],
      "metadata": {
        "execution": {
          "iopub.status.busy": "2024-06-03T22:12:43.848132Z",
          "iopub.execute_input": "2024-06-03T22:12:43.848542Z",
          "iopub.status.idle": "2024-06-03T22:12:44.039998Z",
          "shell.execute_reply.started": "2024-06-03T22:12:43.848512Z",
          "shell.execute_reply": "2024-06-03T22:12:44.03877Z"
        },
        "trusted": true,
        "id": "RTXlBdZLX2c5"
      },
      "execution_count": null,
      "outputs": []
    },
    {
      "cell_type": "code",
      "source": [
        "genres_df = pd.read_csv('/kaggle/input/course-genres/course_genre.csv')\n",
        "genres_df.head()"
      ],
      "metadata": {
        "execution": {
          "iopub.status.busy": "2024-06-03T22:13:52.489007Z",
          "iopub.execute_input": "2024-06-03T22:13:52.489393Z",
          "iopub.status.idle": "2024-06-03T22:13:52.521869Z",
          "shell.execute_reply.started": "2024-06-03T22:13:52.489362Z",
          "shell.execute_reply": "2024-06-03T22:13:52.520612Z"
        },
        "trusted": true,
        "id": "M7LLVZVzX2c5"
      },
      "execution_count": null,
      "outputs": []
    },
    {
      "cell_type": "code",
      "source": [
        "genres = genres_df.columns[2:].tolist()\n",
        "genres"
      ],
      "metadata": {
        "execution": {
          "iopub.status.busy": "2024-06-03T22:15:54.11003Z",
          "iopub.execute_input": "2024-06-03T22:15:54.111263Z",
          "iopub.status.idle": "2024-06-03T22:15:54.118345Z",
          "shell.execute_reply.started": "2024-06-03T22:15:54.111225Z",
          "shell.execute_reply": "2024-06-03T22:15:54.11725Z"
        },
        "trusted": true,
        "id": "b713_sgxX2c6"
      },
      "execution_count": null,
      "outputs": []
    },
    {
      "cell_type": "code",
      "source": [
        "counts = genres_df[genres].sum()\n",
        "total = sum(counts)\n",
        "titles = []\n",
        "for genre in genres:\n",
        "    title = ''\n",
        "    prev = 0\n",
        "    for i, c in enumerate(genre):\n",
        "        if i > 0:\n",
        "            if c.isupper():\n",
        "                title += genre[prev:i] + ' '\n",
        "                prev = i\n",
        "    if title == '':\n",
        "        titles.append(genre)\n",
        "    else:\n",
        "        title += genre[prev:]\n",
        "        titles.append(title)"
      ],
      "metadata": {
        "execution": {
          "iopub.status.busy": "2024-06-03T22:21:40.729278Z",
          "iopub.execute_input": "2024-06-03T22:21:40.729681Z",
          "iopub.status.idle": "2024-06-03T22:21:40.73839Z",
          "shell.execute_reply.started": "2024-06-03T22:21:40.729647Z",
          "shell.execute_reply": "2024-06-03T22:21:40.737308Z"
        },
        "trusted": true,
        "id": "d3IWU-9dX2c6"
      },
      "execution_count": null,
      "outputs": []
    },
    {
      "cell_type": "code",
      "source": [
        "plot_data_h(counts,\n",
        "            titles,\n",
        "            fig_size=(16,8),\n",
        "            total=total)"
      ],
      "metadata": {
        "execution": {
          "iopub.status.busy": "2024-06-03T22:21:43.656277Z",
          "iopub.execute_input": "2024-06-03T22:21:43.656733Z",
          "iopub.status.idle": "2024-06-03T22:21:44.138354Z",
          "shell.execute_reply.started": "2024-06-03T22:21:43.656672Z",
          "shell.execute_reply": "2024-06-03T22:21:44.137126Z"
        },
        "trusted": true,
        "id": "EGQ5Y_5uX2c7"
      },
      "execution_count": null,
      "outputs": []
    },
    {
      "cell_type": "code",
      "source": [
        "plot_data_h(counts,\n",
        "            titles,\n",
        "            fig_size=(16,8),\n",
        "            total=total,\n",
        "            file_name='genre_distribution')"
      ],
      "metadata": {
        "execution": {
          "iopub.status.busy": "2024-06-03T22:23:14.407843Z",
          "iopub.execute_input": "2024-06-03T22:23:14.408783Z",
          "iopub.status.idle": "2024-06-03T22:23:15.138951Z",
          "shell.execute_reply.started": "2024-06-03T22:23:14.408736Z",
          "shell.execute_reply": "2024-06-03T22:23:15.137744Z"
        },
        "trusted": true,
        "id": "S8xd1VgaX2c7"
      },
      "execution_count": null,
      "outputs": []
    },
    {
      "cell_type": "code",
      "source": [
        "enrollments = ratings_df.groupby('user')['item'].count()\n",
        "\n",
        "course_enrollments = ratings_df.groupby('item')['user'].count()\n",
        "courses_df = pd.DataFrame(course_enrollments)\n",
        "courses_df.sort_values(by='user', ascending=True, inplace=True)\n",
        "\n",
        "courses_descr_df = pd.merge(courses_df, genres_df[['COURSE_ID','TITLE']], how='left', left_on='item', right_on='COURSE_ID')\n",
        "courses_descr_df['TITLE'] = courses_descr_df['TITLE'].apply(lambda x : x.title())\n",
        "courses_descr_df.rename(columns={'user':'Enrollments', 'TITLE':'Title', 'COURSE_ID':'Course'}, inplace=True)\n",
        "courses_descr_df = courses_descr_df[['Course','Title','Enrollments']]\n",
        "\n",
        "hist, bins = np.histogram(enrollments, bins=30)"
      ],
      "metadata": {
        "execution": {
          "iopub.status.busy": "2024-06-03T22:28:07.833017Z",
          "iopub.execute_input": "2024-06-03T22:28:07.833428Z",
          "iopub.status.idle": "2024-06-03T22:28:07.907214Z",
          "shell.execute_reply.started": "2024-06-03T22:28:07.833393Z",
          "shell.execute_reply": "2024-06-03T22:28:07.905959Z"
        },
        "trusted": true,
        "id": "Q_lvwflhX2c8"
      },
      "execution_count": null,
      "outputs": []
    },
    {
      "cell_type": "code",
      "source": [
        "def plot_enrollment_histogram(values, total, preview=True):\n",
        "    bar_width = 1\n",
        "    fig = plt.figure(figsize=(16,8))\n",
        "    plt.tick_params(axis='y', which='both', left=False, labelleft=False)\n",
        "    ax = fig.gca()\n",
        "    if preview:\n",
        "        fig.patch.set_facecolor('#808080')  #temp\n",
        "        ax.set_facecolor('#808080')\n",
        "    for pos in range(0,14000,2000):\n",
        "        plt.axhline(y=pos, color='white', alpha=0.3, linestyle='-', linewidth=1)\n",
        "\n",
        "    ax.spines['top'].set_visible(False)\n",
        "    ax.spines['right'].set_visible(False)\n",
        "    ax.spines['bottom'].set_visible(False)\n",
        "    ax.spines['left'].set_visible(False)\n",
        "\n",
        "    ax.set_xticks([i for i in range(len(hist))])\n",
        "    ax.set_xticklabels([f'{b:.0f}' for b in bins[:-1]], fontdict=tick_font)\n",
        "\n",
        "    ax.tick_params(axis='x', colors='white')\n",
        "\n",
        "    bars = plt.bar([i for i in range(len(hist))], hist, color='cyan', width=bar_width)\n",
        "\n",
        "    i=0\n",
        "    _, offset = ax.transAxes.inverted().transform([0,20000])\n",
        "    for bar, value in zip(bars, values):\n",
        "        if value > 0:\n",
        "            plt.text(bar.get_x() + bar.get_width() / 2, bar.get_height(), f'\\u00a0{value:.0f} ({value/total:.2%})', ha='center', va='bottom', color='white',  fontdict={'fontsize':10, 'fontweight':'bold'}, rotation=90); i+=1;\n",
        "\n",
        "    plt.tight_layout()\n",
        "    plt.savefig('user_histogram.svg', format='svg', transparent=True)\n",
        "    plt.show()"
      ],
      "metadata": {
        "execution": {
          "iopub.status.busy": "2024-06-03T22:28:10.787347Z",
          "iopub.execute_input": "2024-06-03T22:28:10.787842Z",
          "iopub.status.idle": "2024-06-03T22:28:10.804836Z",
          "shell.execute_reply.started": "2024-06-03T22:28:10.787804Z",
          "shell.execute_reply": "2024-06-03T22:28:10.803462Z"
        },
        "trusted": true,
        "id": "dmX_yECRX2c8"
      },
      "execution_count": null,
      "outputs": []
    },
    {
      "cell_type": "code",
      "source": [
        "plot_enrollment_histogram(hist, enrollments.shape[0], True)"
      ],
      "metadata": {
        "execution": {
          "iopub.status.busy": "2024-06-03T22:28:22.550055Z",
          "iopub.execute_input": "2024-06-03T22:28:22.550447Z",
          "iopub.status.idle": "2024-06-03T22:28:23.312642Z",
          "shell.execute_reply.started": "2024-06-03T22:28:22.55041Z",
          "shell.execute_reply": "2024-06-03T22:28:23.311534Z"
        },
        "trusted": true,
        "id": "yqOyz330X2c-"
      },
      "execution_count": null,
      "outputs": []
    },
    {
      "cell_type": "code",
      "source": [
        "plot_enrollment_histogram(hist, enrollments.shape[0], False)"
      ],
      "metadata": {
        "execution": {
          "iopub.status.busy": "2024-06-03T22:28:45.536266Z",
          "iopub.execute_input": "2024-06-03T22:28:45.536651Z",
          "iopub.status.idle": "2024-06-03T22:28:46.214503Z",
          "shell.execute_reply.started": "2024-06-03T22:28:45.536621Z",
          "shell.execute_reply": "2024-06-03T22:28:46.213197Z"
        },
        "trusted": true,
        "id": "Ms1NKOZ9X2c-"
      },
      "execution_count": null,
      "outputs": []
    },
    {
      "cell_type": "code",
      "source": [
        "total =  courses_descr_df['Enrollments'].values.sum()\n",
        "plot_data_h(courses_descr_df.iloc[-20:]['Enrollments'].values,\n",
        "            courses_descr_df.iloc[-20:]['Title'].values,\n",
        "            fig_size=(16,8),\n",
        "            total=total)\n",
        "\n"
      ],
      "metadata": {
        "execution": {
          "iopub.status.busy": "2024-06-03T22:31:17.862573Z",
          "iopub.execute_input": "2024-06-03T22:31:17.863075Z"
        },
        "trusted": true,
        "id": "Ow1zQJlOX2c_"
      },
      "execution_count": null,
      "outputs": []
    },
    {
      "cell_type": "code",
      "source": [
        "plot_data_h(courses_descr_df.iloc[-20:]['Enrollments'].values,\n",
        "            courses_descr_df.iloc[-20:]['Title'].values,\n",
        "            fig_size=(16,8),\n",
        "            total=total,\n",
        "            file_name='most_popular_courses')"
      ],
      "metadata": {
        "execution": {
          "iopub.status.busy": "2024-06-03T22:32:39.686449Z",
          "iopub.execute_input": "2024-06-03T22:32:39.686875Z",
          "iopub.status.idle": "2024-06-03T22:32:40.413898Z",
          "shell.execute_reply.started": "2024-06-03T22:32:39.686844Z",
          "shell.execute_reply": "2024-06-03T22:32:40.412397Z"
        },
        "trusted": true,
        "id": "FeJ37ZagX2c_"
      },
      "execution_count": null,
      "outputs": []
    }
  ]
}